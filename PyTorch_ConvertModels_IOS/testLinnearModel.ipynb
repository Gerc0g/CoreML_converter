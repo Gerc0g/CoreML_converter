{
 "cells": [
  {
   "cell_type": "code",
   "execution_count": 1,
   "metadata": {},
   "outputs": [
    {
     "name": "stderr",
     "output_type": "stream",
     "text": [
      "Torch version 2.2.2 has not been tested with coremltools. You may run into unexpected errors. Torch 2.1.0 is the most recent version that has been tested.\n"
     ]
    }
   ],
   "source": [
    "import torch.nn as nn\n",
    "import torch\n",
    "from torchinfo import summary\n",
    "import numpy as np\n",
    "import os\n",
    "import coremltools as ct"
   ]
  },
  {
   "cell_type": "markdown",
   "metadata": {},
   "source": [
    "Зададим класс LinearRegressionModel который инициализирует простейшую нейросеть на PyTorch вида линейной модели.\n",
    "\n",
    "## Класс `LinearRegressionModel`\n",
    "\n",
    "Этот класс реализует модель линейной регрессии с использованием PyTorch. Он наследует от `nn.Module` и включает базовый линейный слой, который преобразует входные данные из `input_size` в `output_size`.\n",
    "\n",
    "### Конструктор `__init__`\n",
    "\n",
    "Инициализирует линейный слой `self.fc`, который принимает размерности входа (`input_size`) и выхода (`output_size`), оба по умолчанию равны 1.\n",
    "\n",
    "### Метод `forward`\n",
    "\n",
    "Определяет прямой проход модели, просто возвращая результат применения линейного слоя к входным данным `x`.\n"
   ]
  },
  {
   "cell_type": "code",
   "execution_count": 2,
   "metadata": {},
   "outputs": [],
   "source": [
    "\n",
    "class LinearRegressionModel(nn.Module):\n",
    "    def __init__(self, input_size=1, output_size=1):\n",
    "        \"\"\"\n",
    "        Инициализация простой линейной регрессии.\n",
    "        \"\"\"\n",
    "        super(LinearRegressionModel, self).__init__()\n",
    "        self.fc = nn.Linear(input_size, output_size)  # Один линейный слой\n",
    "\n",
    "    def forward(self, x):\n",
    "        \"\"\"\n",
    "        Определение прямого прохода через сеть.\n",
    "        \"\"\"\n",
    "        return self.fc(x)\n"
   ]
  },
  {
   "cell_type": "markdown",
   "metadata": {},
   "source": [
    "## Загрузка и подготовка модели к оценке\n",
    "\n",
    "Загружаем сохраненную модель линейной регрессии из файла `simple_linear_model.pth` с помощью `torch.load`. После загрузки модели вызываем `model.eval()`, чтобы перевести её в режим оценки. Это деактивирует некоторые функции, такие как dropout и пакетная нормализация, обеспечивая консистентное поведение модели при использовании для предсказаний.\n"
   ]
  },
  {
   "cell_type": "code",
   "execution_count": 3,
   "metadata": {},
   "outputs": [
    {
     "data": {
      "text/plain": [
       "LinearRegressionModel(\n",
       "  (fc): Linear(in_features=1, out_features=1, bias=True)\n",
       ")"
      ]
     },
     "execution_count": 3,
     "metadata": {},
     "output_type": "execute_result"
    }
   ],
   "source": [
    "model = torch.load(\"simple_linnear_model.pth\")\n",
    "model.eval()"
   ]
  },
  {
   "cell_type": "markdown",
   "metadata": {},
   "source": [
    "## Суммарное описание модели\n",
    "\n",
    "Используем функцию `summary` для получения детального описания всех слоев модели, включая количество параметров и размеры входных и выходных данных каждого слоя. Это полезно для проверки структуры модели и убеждения в её правильности перед проведением оценки или дополнительным обучением.\n"
   ]
  },
  {
   "cell_type": "code",
   "execution_count": 4,
   "metadata": {},
   "outputs": [
    {
     "data": {
      "text/plain": [
       "=================================================================\n",
       "Layer (type:depth-idx)                   Param #\n",
       "=================================================================\n",
       "LinearRegressionModel                    --\n",
       "├─Linear: 1-1                            2\n",
       "=================================================================\n",
       "Total params: 2\n",
       "Trainable params: 2\n",
       "Non-trainable params: 0\n",
       "================================================================="
      ]
     },
     "execution_count": 4,
     "metadata": {},
     "output_type": "execute_result"
    }
   ],
   "source": [
    "summary(model)"
   ]
  },
  {
   "cell_type": "markdown",
   "metadata": {},
   "source": [
    "## Подготовка входных данных для модели\n",
    "\n",
    "Создаем тензор `input_data`, содержащий 100 случайно сгенерированных значений, соответствующих нормальному распределению. Каждое значение является одномерным, что соответствует ожидаемому входу модели линейной регрессии. Для проверки содержимого тензора используем `print(torch.tensor(input_data))`, который выводит значения тензора.\n"
   ]
  },
  {
   "cell_type": "code",
   "execution_count": 26,
   "metadata": {},
   "outputs": [
    {
     "name": "stdout",
     "output_type": "stream",
     "text": [
      "tensor([[ 1.1774],\n",
      "        [ 0.3782],\n",
      "        [-0.0203],\n",
      "        [-0.6435],\n",
      "        [-1.1925],\n",
      "        [-0.0723],\n",
      "        [ 1.3474],\n",
      "        [-0.1897],\n",
      "        [-1.0013],\n",
      "        [ 0.7301],\n",
      "        [ 0.2109],\n",
      "        [-0.9933],\n",
      "        [ 0.5466],\n",
      "        [ 0.0633],\n",
      "        [ 2.1628],\n",
      "        [-1.8348],\n",
      "        [-0.9260],\n",
      "        [ 0.5444],\n",
      "        [ 0.1601],\n",
      "        [-0.8776],\n",
      "        [-1.9140],\n",
      "        [ 0.7502],\n",
      "        [ 0.0407],\n",
      "        [-0.5596],\n",
      "        [-2.6954],\n",
      "        [ 0.5877],\n",
      "        [ 0.2613],\n",
      "        [ 0.4208],\n",
      "        [-1.9816],\n",
      "        [ 0.5083],\n",
      "        [-0.4530],\n",
      "        [ 0.3650],\n",
      "        [ 0.3014],\n",
      "        [ 0.1514],\n",
      "        [-0.7997],\n",
      "        [-1.3751],\n",
      "        [-0.7417],\n",
      "        [ 1.4595],\n",
      "        [-0.3557],\n",
      "        [-0.7295],\n",
      "        [-1.0353],\n",
      "        [ 0.1886],\n",
      "        [-0.1032],\n",
      "        [-0.8746],\n",
      "        [ 0.1787],\n",
      "        [ 0.2055],\n",
      "        [-0.4063],\n",
      "        [ 0.9656],\n",
      "        [ 0.7149],\n",
      "        [-1.7231]])\n"
     ]
    },
    {
     "name": "stderr",
     "output_type": "stream",
     "text": [
      "/var/folders/2m/1nfzrjzx5rjdbx6qbmzt0bjw0000gp/T/ipykernel_71482/298862586.py:2: UserWarning: To copy construct from a tensor, it is recommended to use sourceTensor.clone().detach() or sourceTensor.clone().detach().requires_grad_(True), rather than torch.tensor(sourceTensor).\n",
      "  input_data = torch.tensor(input_data)\n"
     ]
    }
   ],
   "source": [
    "input_data = torch.randn(50,1)\n",
    "input_data = torch.tensor(input_data)\n",
    "print(input_data)"
   ]
  },
  {
   "cell_type": "markdown",
   "metadata": {},
   "source": [
    "## Подготовка и использование входных данных для предсказания\n",
    "\n",
    "### Подготовка входных данных\n",
    "\n",
    "В этом разделе мы создаем тензор `input_data` с заданными значениями. Эти данные представляют собой вектор признаков, которые будут использоваться для получения предсказаний от модели линейной регрессии. Данные включают в себя различные числовые значения, распределенные в колонке.\n",
    "\n",
    "### Выполнение предсказаний\n",
    "\n",
    "Следующий шаг — использование модели для получения предсказаний на основе входных данных. Мы используем контекст `torch.no_grad()`, чтобы отключить расчет градиентов, что является стандартной практикой при делании предсказаний, поскольку это снижает потребление памяти и ускоряет процесс. Затем мы применяем модель к `input_data` и сохраняем результат в переменной `predictions`.\n",
    "\n"
   ]
  },
  {
   "cell_type": "code",
   "execution_count": 27,
   "metadata": {},
   "outputs": [],
   "source": [
    "with torch.no_grad():\n",
    "    predictions = model(input_data)\n"
   ]
  },
  {
   "cell_type": "markdown",
   "metadata": {},
   "source": [
    "## Сохранение предсказаний в файл\n",
    "\n",
    "### Задание пути к файлу\n",
    "\n",
    "Переменная `file_path` задает имя файла, в который будут сохранены предсказания модели. Имя файла `LIN_значение.txt` указывает на то, что файл содержит значения линейной регрессии.\n",
    "\n",
    "### Сохранение данных\n",
    "\n",
    "Используя функцию `np.savetxt` из библиотеки NumPy, сохраняем предсказания модели в текстовый файл. Метод `flatten` применен к массиву `predictions` для преобразования его в одномерный массив, что упрощает запись данных. Аргумент `delimiter=', '` определяет, что значения в файле будут разделены запятой и пробелом.\n",
    "\n",
    "Этот подход обеспечивает удобное хранение и возможность последующего анализа результатов модели.\n"
   ]
  },
  {
   "cell_type": "code",
   "execution_count": 7,
   "metadata": {},
   "outputs": [],
   "source": [
    "current_directory = os.getcwd()\n",
    "parent_directory = os.path.abspath(os.path.join(current_directory, os.pardir))\n",
    "\n",
    "file_path = f'{parent_directory}/Files/LIN_значение.txt'\n",
    "\n",
    "np.savetxt(file_path, predictions.flatten(), delimiter=', ')\n"
   ]
  },
  {
   "cell_type": "markdown",
   "metadata": {},
   "source": [
    "## Сохранение модели в формате TorchScript\n",
    "\n",
    "### Подготовка примера входных данных\n",
    "\n",
    "Первым шагом является подготовка `input_trace_example`, примера входных данных, который необходим для трассировки модели. В данном случае создается тензор случайных данных размером `(100, 1)`, что соответствует ожидаемым размерам входа модели.\n",
    "\n",
    "### Трассировка модели\n",
    "\n",
    "Функция `torch.jit.trace` используется для создания трассированной версии модели. Этот процесс включает выполнение модели с примером входных данных, что позволяет TorchScript записать операции, выполняемые моделью. Результатом является оптимизированная версия модели, которая может быть эффективно выполнена на различных платформах.\n",
    "\n",
    "### Сохранение трассированной модели\n",
    "\n",
    "После трассировки модель сохраняется в файл `LIN_model_traced.pt` с использованием `torch.jit.save`. Этот формат файлов TorchScript удобен для последующего развертывания модели в различных средах, включая серверные и мобильные платформы.\n",
    "\n",
    "Этот подход позволяет улучшить переносимость и производительность модели, обеспечивая возможность её использования в разнообразных приложениях.\n"
   ]
  },
  {
   "cell_type": "code",
   "execution_count": 36,
   "metadata": {},
   "outputs": [],
   "source": [
    "input_trase_example = (torch.randn(50,1))\n",
    "traced_model = torch.jit.trace(model, input_trase_example)\n",
    "torch.jit.save(traced_model, f'{parent_directory}/Files/LIN_model_traced.pt')"
   ]
  },
  {
   "cell_type": "code",
   "execution_count": 37,
   "metadata": {},
   "outputs": [
    {
     "data": {
      "text/plain": [
       "RecursiveScriptModule(\n",
       "  original_name=LinearRegressionModel\n",
       "  (fc): RecursiveScriptModule(original_name=Linear)\n",
       ")"
      ]
     },
     "execution_count": 37,
     "metadata": {},
     "output_type": "execute_result"
    }
   ],
   "source": [
    "LIN_loaded_model = torch.jit.load(f'{parent_directory}/Files/LIN_model_traced.pt')\n",
    "LIN_loaded_model.eval()"
   ]
  },
  {
   "cell_type": "code",
   "execution_count": 38,
   "metadata": {},
   "outputs": [
    {
     "data": {
      "text/plain": [
       "=================================================================\n",
       "Layer (type:depth-idx)                   Param #\n",
       "=================================================================\n",
       "LinearRegressionModel                    --\n",
       "├─Linear: 1-1                            2\n",
       "=================================================================\n",
       "Total params: 2\n",
       "Trainable params: 2\n",
       "Non-trainable params: 0\n",
       "================================================================="
      ]
     },
     "execution_count": 38,
     "metadata": {},
     "output_type": "execute_result"
    }
   ],
   "source": [
    "summary(LIN_loaded_model)"
   ]
  },
  {
   "cell_type": "code",
   "execution_count": 43,
   "metadata": {},
   "outputs": [],
   "source": [
    "LIN_example_input = torch.randn(50, 1)"
   ]
  },
  {
   "cell_type": "code",
   "execution_count": 44,
   "metadata": {},
   "outputs": [
    {
     "name": "stderr",
     "output_type": "stream",
     "text": [
      "Support for converting Torch Script Models is experimental. If possible you should use a traced model for conversion.\n",
      "Converting PyTorch Frontend ==> MIL Ops:   0%|          | 0/1 [00:00<?, ? ops/s]\n",
      "Running MIL frontend_pytorch pipeline: 100%|██████████| 5/5 [00:00<00:00, 28886.39 passes/s]\n",
      "Running MIL default pipeline: 100%|██████████| 69/69 [00:00<00:00, 8100.51 passes/s]\n",
      "Running MIL backend_neuralnetwork pipeline: 100%|██████████| 9/9 [00:00<00:00, 39652.03 passes/s]\n",
      "Translating MIL ==> NeuralNetwork Ops: 100%|██████████| 3/3 [00:00<00:00, 13400.33 ops/s]\n"
     ]
    }
   ],
   "source": [
    "mlmodel = ct.convert(\n",
    "    LIN_loaded_model,\n",
    "    inputs=[ct.TensorType(shape=LIN_example_input.shape)],\n",
    "    convert_to='neuralnetwork'\n",
    ")\n",
    "\n",
    "'''Можно запустить модель для проверки перед сохранением'''\n",
    "\n",
    "\n",
    "# Сохраняем модель в файл\n",
    "mlmodel.save(f\"{parent_directory}/Files/LIN_CoreML.mlmodel\")"
   ]
  },
  {
   "cell_type": "code",
   "execution_count": 45,
   "metadata": {},
   "outputs": [],
   "source": [
    "LIN_coreML = ct.models.MLModel(f'{parent_directory}/Files/LIN_CoreML.mlmodel')"
   ]
  },
  {
   "cell_type": "code",
   "execution_count": 46,
   "metadata": {},
   "outputs": [
    {
     "name": "stdout",
     "output_type": "stream",
     "text": [
      "[name: \"x_1\"\n",
      "type {\n",
      "  multiArrayType {\n",
      "    shape: 50\n",
      "    shape: 1\n",
      "    dataType: FLOAT32\n",
      "  }\n",
      "}\n",
      "]\n",
      "[name: \"linear_0\"\n",
      "type {\n",
      "  multiArrayType {\n",
      "    dataType: FLOAT32\n",
      "  }\n",
      "}\n",
      "]\n"
     ]
    }
   ],
   "source": [
    "spec = LIN_coreML.get_spec()\n",
    "print(spec.description.input)\n",
    "print(spec.description.output)"
   ]
  },
  {
   "cell_type": "code",
   "execution_count": 47,
   "metadata": {},
   "outputs": [],
   "source": [
    "input_d = {'x_1':input_data}\n",
    "LIN_predict = LIN_coreML.predict(input_d)"
   ]
  },
  {
   "cell_type": "code",
   "execution_count": 51,
   "metadata": {},
   "outputs": [
    {
     "ename": "AttributeError",
     "evalue": "'Tensor' object has no attribute 'tensor'",
     "output_type": "error",
     "traceback": [
      "\u001b[0;31m---------------------------------------------------------------------------\u001b[0m",
      "\u001b[0;31mAttributeError\u001b[0m                            Traceback (most recent call last)",
      "Cell \u001b[0;32mIn[51], line 3\u001b[0m\n\u001b[1;32m      1\u001b[0m a \u001b[38;5;241m=\u001b[39m LIN_predict[\u001b[38;5;124m'\u001b[39m\u001b[38;5;124mlinear_0\u001b[39m\u001b[38;5;124m'\u001b[39m]\u001b[38;5;241m.\u001b[39mflatten()\n\u001b[0;32m----> 3\u001b[0m \u001b[38;5;28mprint\u001b[39m(\u001b[38;5;124mf\u001b[39m\u001b[38;5;124m\"\u001b[39m\u001b[38;5;124mПредсказание PyTorch - \u001b[39m\u001b[38;5;132;01m{\u001b[39;00m\u001b[43mpredictions\u001b[49m\u001b[38;5;241;43m.\u001b[39;49m\u001b[43mtensor\u001b[49m\u001b[38;5;132;01m}\u001b[39;00m\u001b[38;5;124m\"\u001b[39m)\n\u001b[1;32m      4\u001b[0m \u001b[38;5;28mprint\u001b[39m(\u001b[38;5;124mf\u001b[39m\u001b[38;5;124m\"\u001b[39m\u001b[38;5;130;01m\\n\u001b[39;00m\u001b[38;5;124mПредсказание CoreML - \u001b[39m\u001b[38;5;132;01m{\u001b[39;00ma\u001b[38;5;132;01m}\u001b[39;00m\u001b[38;5;124m\"\u001b[39m)\n",
      "\u001b[0;31mAttributeError\u001b[0m: 'Tensor' object has no attribute 'tensor'"
     ]
    }
   ],
   "source": [
    "a = LIN_predict['linear_0'].flatten()\n",
    "\n",
    "print(f\"Предсказание PyTorch - {predictions}\")\n",
    "print(f\"\\nПредсказание CoreML - {a}\")"
   ]
  }
 ],
 "metadata": {
  "kernelspec": {
   "display_name": "venTestModels",
   "language": "python",
   "name": "python3"
  },
  "language_info": {
   "codemirror_mode": {
    "name": "ipython",
    "version": 3
   },
   "file_extension": ".py",
   "mimetype": "text/x-python",
   "name": "python",
   "nbconvert_exporter": "python",
   "pygments_lexer": "ipython3",
   "version": "3.11.9"
  }
 },
 "nbformat": 4,
 "nbformat_minor": 2
}
